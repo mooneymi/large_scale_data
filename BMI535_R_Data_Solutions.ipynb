{
 "cells": [
  {
   "cell_type": "markdown",
   "metadata": {},
   "source": [
    "# BMI 535/635: Management & Processing of Large-scale Data\n",
    "\n",
    "#### Author: Michael Mooney (mooneymi@ohsu.edu)\n",
    "\n",
    "## Data Storage and Querying Solutions in R"
   ]
  },
  {
   "cell_type": "markdown",
   "metadata": {},
   "source": [
    "1. Introduction\n",
    "2. Learning Objectives\n",
    "3. Resource Profiling\n",
    "4. Review of R Data Types\n",
    "5. Data from dbSNP\n",
    "6. Connecting to Relational DBs\n",
    "7. data.table\n",
    "8. BigMemory\n",
    "10. HDF5\n",
    "\n",
    "Requirements:\n",
    "\n",
    "- R packages:\n",
    "    - pryr\n",
    "    - RMySQL\n",
    "    - data.table\n",
    "    - bigmemory\n",
    "    - bigalgebra\n",
    "    - hdf5r\n",
    "    - bit64\n",
    "    - profmem\n",
    "    - parallel\n",
    "- Data files:\n",
    "    - dbSNP annotations (chromosome 1 only): `chr1_reducedCols.txt.gz` (download this from the state server)\n",
    "    - A MySQL config file containing connection parameters: `~/.my.cnf`"
   ]
  },
  {
   "cell_type": "code",
   "execution_count": 1,
   "metadata": {},
   "outputs": [
    {
     "name": "stderr",
     "output_type": "stream",
     "text": [
      "Registered S3 method overwritten by 'pryr':\n",
      "  method      from\n",
      "  print.bytes Rcpp\n",
      "Loading required package: DBI\n",
      "\n",
      "Attaching package: ‘data.table’\n",
      "\n",
      "The following object is masked from ‘package:pryr’:\n",
      "\n",
      "    address\n",
      "\n",
      "Loading required package: bit\n",
      "Attaching package bit\n",
      "package:bit (c) 2008-2012 Jens Oehlschlaegel (GPL-2)\n",
      "creators: bit bitwhich\n",
      "coercion: as.logical as.integer as.bit as.bitwhich which\n",
      "operator: ! & | xor != ==\n",
      "querying: print length any all min max range sum summary\n",
      "bit access: length<- [ [<- [[ [[<-\n",
      "for more help type ?bit\n",
      "\n",
      "Attaching package: ‘bit’\n",
      "\n",
      "The following object is masked from ‘package:data.table’:\n",
      "\n",
      "    setattr\n",
      "\n",
      "The following object is masked from ‘package:base’:\n",
      "\n",
      "    xor\n",
      "\n",
      "Attaching package bit64\n",
      "package:bit64 (c) 2011-2012 Jens Oehlschlaegel\n",
      "creators: integer64 seq :\n",
      "coercion: as.integer64 as.vector as.logical as.integer as.double as.character as.bin\n",
      "logical operator: ! & | xor != == < <= >= >\n",
      "arithmetic operator: + - * / %/% %% ^\n",
      "math: sign abs sqrt log log2 log10\n",
      "math: floor ceiling trunc round\n",
      "querying: is.integer64 is.vector [is.atomic} [length] format print str\n",
      "values: is.na is.nan is.finite is.infinite\n",
      "aggregation: any all min max range sum prod\n",
      "cumulation: diff cummin cummax cumsum cumprod\n",
      "access: length<- [ [<- [[ [[<-\n",
      "combine: c rep cbind rbind as.data.frame\n",
      "WARNING don't use as subscripts\n",
      "WARNING semantics differ from integer\n",
      "for more help type ?bit64\n",
      "\n",
      "Attaching package: ‘bit64’\n",
      "\n",
      "The following object is masked from ‘package:bit’:\n",
      "\n",
      "    still.identical\n",
      "\n",
      "The following objects are masked from ‘package:base’:\n",
      "\n",
      "    :, %in%, is.double, match, order, rank\n",
      "\n"
     ]
    }
   ],
   "source": [
    "library(pryr)\n",
    "library(RMySQL)\n",
    "library(data.table)\n",
    "library(bigmemory)\n",
    "library(bigalgebra)\n",
    "library(hdf5r)\n",
    "library(bit64)\n",
    "library(profmem)\n",
    "library(parallel)"
   ]
  },
  {
   "cell_type": "markdown",
   "metadata": {},
   "source": [
    "## Introduction"
   ]
  },
  {
   "cell_type": "markdown",
   "metadata": {
    "collapsed": true
   },
   "source": [
    "This is the **R** version of the previous lecture. We'll be addressing the same big-data issues, but this time exploring solutions offered in R. Just as a reminder, here are the problems often faced when working with large data sets:\n",
    "\n",
    "1. Data does not fit into memory\n",
    "    - In particular, this can be a problem when setting up parallel computations, where each process needs the full data\n",
    "    - R can sometimes present unique challenges when it comes to memory usage. For more info see the following:\n",
    "    - ([http://adv-r.had.co.nz/memory.html](http://adv-r.had.co.nz/memory.html))\n",
    "    - `?Memory`\n",
    "2. Accessing (querying) the data is slow\n",
    "3. Data files on-disk are very large (i.e. not easily portable)\n",
    "\n",
    "Potential Solutions:\n",
    "\n",
    "1. Use on-disk storage that is optimized for fast read/write access\n",
    "2. Use data storage that allows for multiple concurrent reads (i.e. can be shared across multiple processes)\n",
    "3. Use data compression\n",
    "\n",
    "### Learning Objectives\n",
    "\n",
    "1. You will learn some basic methods for profiling the amount of resources and time used by computational tasks\n",
    "2. You will learn how to store large datasets in various \"high-performance\" R data structures\n",
    "3. You will learn how to query data in each of the data structures\n",
    "4. You will learn how to convert between these various data storage solutions\n"
   ]
  },
  {
   "cell_type": "markdown",
   "metadata": {},
   "source": [
    "## Resource Profiling\n",
    "\n",
    "`system.time` can be used to measure the runtime of a particular block of code. And there are a number of options for measuring memory usage (`mem_used`, `mem_change`, `memprof`). Examples are shown below.\n",
    "\n",
    "More information can be found at Hadley Wickham's 'Advanced R' site: \n",
    "\n",
    "[http://adv-r.had.co.nz/Profiling.html](http://adv-r.had.co.nz/Profiling.html)\n",
    "\n",
    "[http://adv-r.had.co.nz/memory.html#memory-profiling](http://adv-r.had.co.nz/memory.html#memory-profiling)"
   ]
  },
  {
   "cell_type": "code",
   "execution_count": 2,
   "metadata": {},
   "outputs": [
    {
     "data": {
      "text/plain": [
       "61.8 MB"
      ]
     },
     "metadata": {},
     "output_type": "display_data"
    }
   ],
   "source": [
    "## Print the amount of memory R is currently using\n",
    "mem_used()"
   ]
  },
  {
   "cell_type": "code",
   "execution_count": 3,
   "metadata": {},
   "outputs": [
    {
     "data": {
      "text/plain": [
       "   user  system elapsed \n",
       "  0.090   0.017   3.115 "
      ]
     },
     "metadata": {},
     "output_type": "display_data"
    }
   ],
   "source": [
    "## A dummy function that simply creates a large list, but returns nothing\n",
    "foo = function(a, n=100) {\n",
    "    Sys.sleep(2)\n",
    "    b = rep(a, n)\n",
    "    Sys.sleep(1)\n",
    "    return(NULL)\n",
    "}\n",
    "\n",
    "## Use system.time to see how long code takes to run\n",
    "system.time({foo(1,10000000)})"
   ]
  },
  {
   "cell_type": "code",
   "execution_count": 4,
   "metadata": {},
   "outputs": [
    {
     "data": {
      "text/plain": [
       "8.48 kB"
      ]
     },
     "metadata": {},
     "output_type": "display_data"
    }
   ],
   "source": [
    "## See the change in memory after a piece of code is run\n",
    "mem_change({foo(1,10000000)})"
   ]
  },
  {
   "cell_type": "code",
   "execution_count": 5,
   "metadata": {},
   "outputs": [
    {
     "data": {
      "text/plain": [
       "62.1 MB"
      ]
     },
     "metadata": {},
     "output_type": "display_data"
    }
   ],
   "source": [
    "mem_used()"
   ]
  },
  {
   "cell_type": "code",
   "execution_count": 6,
   "metadata": {},
   "outputs": [
    {
     "data": {
      "text/html": [
       "<table>\n",
       "<thead><tr><th scope=col>what</th><th scope=col>bytes</th><th scope=col>trace</th></tr></thead>\n",
       "<tbody>\n",
       "\t<tr><td>alloc   </td><td>80000048</td><td>foo     </td></tr>\n",
       "\t<tr><td>alloc   </td><td>     528</td><td>        </td></tr>\n",
       "\t<tr><td>alloc   </td><td>    1648</td><td>        </td></tr>\n",
       "\t<tr><td>alloc   </td><td>    1648</td><td>        </td></tr>\n",
       "\t<tr><td>alloc   </td><td>    1072</td><td>        </td></tr>\n",
       "\t<tr><td>alloc   </td><td>     256</td><td>        </td></tr>\n",
       "\t<tr><td>alloc   </td><td>     456</td><td>        </td></tr>\n",
       "\t<tr><td>alloc   </td><td>     216</td><td>        </td></tr>\n",
       "\t<tr><td>alloc   </td><td>     256</td><td>        </td></tr>\n",
       "</tbody>\n",
       "</table>\n"
      ],
      "text/latex": [
       "\\begin{tabular}{r|lll}\n",
       " what & bytes & trace\\\\\n",
       "\\hline\n",
       "\t alloc    & 80000048 & foo     \\\\\n",
       "\t alloc    &      528 &         \\\\\n",
       "\t alloc    &     1648 &         \\\\\n",
       "\t alloc    &     1648 &         \\\\\n",
       "\t alloc    &     1072 &         \\\\\n",
       "\t alloc    &      256 &         \\\\\n",
       "\t alloc    &      456 &         \\\\\n",
       "\t alloc    &      216 &         \\\\\n",
       "\t alloc    &      256 &         \\\\\n",
       "\\end{tabular}\n"
      ],
      "text/markdown": [
       "\n",
       "| what | bytes | trace |\n",
       "|---|---|---|\n",
       "| alloc    | 80000048 | foo      |\n",
       "| alloc    |      528 |          |\n",
       "| alloc    |     1648 |          |\n",
       "| alloc    |     1648 |          |\n",
       "| alloc    |     1072 |          |\n",
       "| alloc    |      256 |          |\n",
       "| alloc    |      456 |          |\n",
       "| alloc    |      216 |          |\n",
       "| alloc    |      256 |          |\n",
       "\n"
      ],
      "text/plain": [
       "  what  bytes    trace\n",
       "1 alloc 80000048 foo  \n",
       "2 alloc      528      \n",
       "3 alloc     1648      \n",
       "4 alloc     1648      \n",
       "5 alloc     1072      \n",
       "6 alloc      256      \n",
       "7 alloc      456      \n",
       "8 alloc      216      \n",
       "9 alloc      256      "
      ]
     },
     "metadata": {},
     "output_type": "display_data"
    }
   ],
   "source": [
    "## profmem displays information about memory allocation for a block of code\n",
    "profmem({foo(1,10000000)})"
   ]
  },
  {
   "cell_type": "markdown",
   "metadata": {},
   "source": [
    "## Review of Basic R Data Types\n",
    "\n",
    "Basic R data types and when to use them:\n",
    "\n",
    "**Vectors**: Vectors store collections of data elements of a single type. R will perform automatic type conversions, so be careful and pay attention to your data types. Vectors can be named, so you can access elements by name or by index. Note: set operations can be performed on vectors.\n",
    "\n",
    "**Lists**: An R list is similar to a Python dictionary because it is a labeled collection of items (you can find an item based on a key). However, R lists are not stored in a way that makes fast lookups possible. If you have a large collection of data and need to repeatedly search for specific items, use an environment instead.\n",
    "\n",
    "**Environments**: An environment can be created and accessed very much like a list, but because of they way it is stored internally, data access is much faster. \n",
    "\n",
    "**DataFrames**: A table data structure (the inspiration for the Pandas DataFrame in Python), which can hold columns of different data types.\n"
   ]
  },
  {
   "cell_type": "code",
   "execution_count": 7,
   "metadata": {},
   "outputs": [],
   "source": [
    "## Create some example data\n",
    "VECTOR1 = sample(c(1:1000000), 1000000)\n",
    "VECTOR2 = c(1:1000000)\n",
    "LIST1 = as.list(VECTOR2)\n",
    "names(LIST1) = as.character(VECTOR1)\n",
    "DF1 = data.frame(A=VECTOR1, B=VECTOR2)\n",
    "rownames(DF1) = as.character(VECTOR1)"
   ]
  },
  {
   "cell_type": "code",
   "execution_count": 8,
   "metadata": {},
   "outputs": [
    {
     "data": {
      "text/plain": [
       "218 MB"
      ]
     },
     "metadata": {},
     "output_type": "display_data"
    }
   ],
   "source": [
    "mem_used()"
   ]
  },
  {
   "cell_type": "code",
   "execution_count": 9,
   "metadata": {},
   "outputs": [
    {
     "name": "stdout",
     "output_type": "stream",
     "text": [
      "[1] \"Vector:\"\n",
      "[1] 453591\n",
      "   user  system elapsed \n",
      "  0.002   0.000   0.002 \n",
      "[1] \"Vector #2:\"\n",
      "[1] 453591\n",
      "   user  system elapsed \n",
      "  0.003   0.000   0.003 \n",
      "[1] \"List:\"\n",
      "[1] 453591\n",
      "   user  system elapsed \n",
      "  0.218   0.000   0.219 \n",
      "[1] \"DataFrame:\"\n",
      "[1] 453591\n",
      "   user  system elapsed \n",
      "  0.005   0.003   0.008 \n",
      "[1] \"DataFrame #2:\"\n",
      "[1] 453591\n",
      "   user  system elapsed \n",
      "  0.006   0.000   0.007 \n",
      "[1] \"DataFrame #3:\"\n",
      "[1] 453591\n",
      "   user  system elapsed \n",
      "  0.039   0.000   0.038 \n"
     ]
    }
   ],
   "source": [
    "## How long does it take to find an item?\n",
    "## Using a vector\n",
    "t = system.time({idx = match(567890, VECTOR1)})\n",
    "print(\"Vector:\")\n",
    "print(idx)\n",
    "print(t)\n",
    "\n",
    "## Using a vector version 2\n",
    "t = system.time({idx = which(VECTOR1 == 567890)})\n",
    "print(\"Vector #2:\")\n",
    "print(idx)\n",
    "print(t)\n",
    "\n",
    "## Using a list\n",
    "t = system.time({idx = LIST1[[as.character(567890)]]})\n",
    "print(\"List:\")\n",
    "print(idx)\n",
    "print(t)\n",
    "\n",
    "## Using a dataframe\n",
    "t = system.time({idx = match(567890, DF1$A)})\n",
    "print(\"DataFrame:\")\n",
    "print(idx)\n",
    "print(t)\n",
    "\n",
    "## Using a dataframe version 2\n",
    "t = system.time({idx = DF1$B[DF1$A == 567890]})\n",
    "print(\"DataFrame #2:\")\n",
    "print(idx)\n",
    "print(t)\n",
    "\n",
    "## Using a dataframe version 3 (rownames)\n",
    "t = system.time({idx = DF1[as.character(567890), 'B']})\n",
    "print(\"DataFrame #3:\")\n",
    "print(idx)\n",
    "print(t)"
   ]
  },
  {
   "cell_type": "code",
   "execution_count": 10,
   "metadata": {},
   "outputs": [
    {
     "name": "stdout",
     "output_type": "stream",
     "text": [
      "[1] \"Vector:\"\n",
      "[1] TRUE\n",
      "   user  system elapsed \n",
      "  0.005   0.003   0.007 \n",
      "[1] \"List:\"\n",
      "[1] TRUE\n",
      "   user  system elapsed \n",
      "  0.204   0.000   0.204 \n",
      "[1] \"DataFrame:\"\n",
      "[1] TRUE\n",
      "   user  system elapsed \n",
      "  0.002   0.000   0.002 \n",
      "[1] \"DataFrame #2:\"\n",
      "[1] TRUE\n",
      "   user  system elapsed \n",
      "  0.008   0.000   0.008 \n"
     ]
    }
   ],
   "source": [
    "## How long does it take to determine if an item exists?\n",
    "x = 567890\n",
    "## Using a vector\n",
    "t = system.time({test = x %in% VECTOR1})\n",
    "print(\"Vector:\")\n",
    "print(test)\n",
    "print(t)\n",
    "\n",
    "## Using a list\n",
    "t = system.time({test = as.character(x) %in% names(LIST1)})\n",
    "print(\"List:\")\n",
    "print(test)\n",
    "print(t)\n",
    "\n",
    "## Using a dataframe\n",
    "t = system.time({test = x %in% DF1$A})\n",
    "print(\"DataFrame:\")\n",
    "print(test)\n",
    "print(t)\n",
    "\n",
    "## Using a dataframe version 2\n",
    "t = system.time({test = x %in% rownames(DF1)})\n",
    "print(\"DataFrame #2:\")\n",
    "print(test)\n",
    "print(t)"
   ]
  },
  {
   "cell_type": "code",
   "execution_count": 11,
   "metadata": {},
   "outputs": [],
   "source": [
    "## Now let's compare a list to an environment\n",
    "ENV1 = as.environment(LIST1)"
   ]
  },
  {
   "cell_type": "code",
   "execution_count": 12,
   "metadata": {},
   "outputs": [
    {
     "data": {
      "text/plain": [
       "404 MB"
      ]
     },
     "metadata": {},
     "output_type": "display_data"
    }
   ],
   "source": [
    "mem_used()"
   ]
  },
  {
   "cell_type": "code",
   "execution_count": 13,
   "metadata": {},
   "outputs": [
    {
     "name": "stdout",
     "output_type": "stream",
     "text": [
      "[1] \"List:\"\n",
      "[1] 453591\n",
      "   user  system elapsed \n",
      "  0.009   0.000   0.008 \n",
      "[1] \"Environment:\"\n",
      "[1] 453591\n",
      "   user  system elapsed \n",
      "      0       0       0 \n"
     ]
    }
   ],
   "source": [
    "## How long does it take to find an item?\n",
    "## Using a list\n",
    "t = system.time({idx = LIST1[[as.character(567890)]]})\n",
    "print(\"List:\")\n",
    "print(idx)\n",
    "print(t)\n",
    "\n",
    "## Using an environment\n",
    "t = system.time({idx = ENV1[[as.character(567890)]]})\n",
    "print(\"Environment:\")\n",
    "print(idx)\n",
    "print(t)"
   ]
  },
  {
   "cell_type": "code",
   "execution_count": 14,
   "metadata": {},
   "outputs": [
    {
     "name": "stdout",
     "output_type": "stream",
     "text": [
      "[1] \"List:\"\n",
      "[1] TRUE\n",
      "   user  system elapsed \n",
      "  0.005   0.002   0.007 \n",
      "[1] \"Environment:\"\n",
      "[1] TRUE\n",
      "   user  system elapsed \n",
      "  0.001   0.000   0.001 \n"
     ]
    }
   ],
   "source": [
    "## How long does it take to determine if an item exists?\n",
    "x = 567890\n",
    "## Using a list\n",
    "t = system.time({test = as.character(x) %in% names(LIST1)})\n",
    "print(\"List:\")\n",
    "print(test)\n",
    "print(t)\n",
    "\n",
    "## Using a list\n",
    "t = system.time({test = exists(as.character(x), where=ENV1)})\n",
    "print(\"Environment:\")\n",
    "print(test)\n",
    "print(t)"
   ]
  },
  {
   "cell_type": "markdown",
   "metadata": {},
   "source": [
    "## dbSNP Dataset\n",
    "\n",
    "For the following examples, we'll be using data from dbSNP, which contains information about all single nucleotide polymorphisms (SNPs) on human chromosome 1. The data file is a tab-delimited text file containing four columns: the 'rs' number of the SNP, the chromosome, the position, and a comma-separated list of genes at the same location. Note: the file contains a multi-line header."
   ]
  },
  {
   "cell_type": "code",
   "execution_count": 15,
   "metadata": {},
   "outputs": [
    {
     "name": "stdout",
     "output_type": "stream",
     "text": [
      " [1] \"dbSNP Chromosome Report\"                                                                 \n",
      " [2] \"Refer to ftp://ftp.ncbi.nlm.nih.gov/snp/00readme for documentation on tabular data below\"\n",
      " [3] \"\"                                                                                        \n",
      " [4] \"rs#\\tchr\\tchr\\tlocal\"                                                                    \n",
      " [5] \"\\t\\tpos\\tloci\"                                                                           \n",
      " [6] \"\"                                                                                        \n",
      " [7] \"\"                                                                                        \n",
      " [8] \"171\\t1\\t175261679\\t\"                                                                     \n",
      " [9] \"242\\t1\\t20869461\\t\"                                                                      \n",
      "[10] \"538\\t1\\t6160958\\tKCNAB2\"                                                                 \n"
     ]
    }
   ],
   "source": [
    "print(system(\"head ./xdata/chr1_reducedCols.txt\", intern=TRUE))"
   ]
  },
  {
   "cell_type": "markdown",
   "metadata": {},
   "source": [
    "## Connecting to Relational DBs in R\n",
    "\n",
    "[https://cran.r-project.org/web/packages/RMySQL/index.html](https://cran.r-project.org/web/packages/RMySQL/index.html)\n",
    "\n",
    "We'll be connecting to the same DB as last time. The R package `RMySQL` will connect to the database using connection settings stored in a configuration file in your home directory (`~/.my.cnf`). The file should contain 'groups' of settings for databases that you connect to frequently. For example, the following should be entered in the configuration file to allow you to connect to a database called 'bmi535' (the square brackets indicate a 'group', and you can have multiple of these in the same file).\n",
    "\n",
    "    [bmi535_snps]\n",
    "    host=localhost\n",
    "    user=mooneymi\n",
    "    password=mypassword\n",
    "    database=bmi535_snps\n",
    "\n",
    "****Note: with the latest version of MySQL you may get an \"Authentication plugin 'caching_sha2_password' cannot be loaded\" error. You can avoid this error by changing the user's authentication type (mysql_native_password).**"
   ]
  },
  {
   "cell_type": "code",
   "execution_count": 16,
   "metadata": {},
   "outputs": [],
   "source": [
    "## Connect to the MySQL database using connection settings defined in ~/.my.cnf\n",
    "conn = dbConnect(RMySQL::MySQL(), group=\"bmi535_snps\")"
   ]
  },
  {
   "cell_type": "code",
   "execution_count": 17,
   "metadata": {},
   "outputs": [
    {
     "data": {
      "text/plain": [
       "   user  system elapsed \n",
       "  0.001   0.000   5.747 "
      ]
     },
     "metadata": {},
     "output_type": "display_data"
    }
   ],
   "source": [
    "## Let's query the DB\n",
    "system.time({query = \"SELECT * FROM snps WHERE chr = 1 AND pos = 225512846 AND loci = 'DNAH14';\"\n",
    "res = dbSendQuery(conn, query)\n",
    "rows = dbFetch(res)})"
   ]
  },
  {
   "cell_type": "code",
   "execution_count": 18,
   "metadata": {},
   "outputs": [
    {
     "data": {
      "text/html": [
       "<table>\n",
       "<thead><tr><th scope=col>rs</th><th scope=col>chr</th><th scope=col>pos</th><th scope=col>loci</th></tr></thead>\n",
       "<tbody>\n",
       "\t<tr><td>189425743</td><td>1        </td><td>225512846</td><td>DNAH14   </td></tr>\n",
       "</tbody>\n",
       "</table>\n"
      ],
      "text/latex": [
       "\\begin{tabular}{r|llll}\n",
       " rs & chr & pos & loci\\\\\n",
       "\\hline\n",
       "\t 189425743 & 1         & 225512846 & DNAH14   \\\\\n",
       "\\end{tabular}\n"
      ],
      "text/markdown": [
       "\n",
       "| rs | chr | pos | loci |\n",
       "|---|---|---|---|\n",
       "| 189425743 | 1         | 225512846 | DNAH14    |\n",
       "\n"
      ],
      "text/plain": [
       "  rs        chr pos       loci  \n",
       "1 189425743 1   225512846 DNAH14"
      ]
     },
     "metadata": {},
     "output_type": "display_data"
    },
    {
     "data": {
      "text/html": [
       "TRUE"
      ],
      "text/latex": [
       "TRUE"
      ],
      "text/markdown": [
       "TRUE"
      ],
      "text/plain": [
       "[1] TRUE"
      ]
     },
     "metadata": {},
     "output_type": "display_data"
    }
   ],
   "source": [
    "rows\n",
    "dbClearResult(res)"
   ]
  },
  {
   "cell_type": "code",
   "execution_count": 19,
   "metadata": {},
   "outputs": [
    {
     "data": {
      "text/plain": [
       "   user  system elapsed \n",
       "  0.001   0.000   0.005 "
      ]
     },
     "metadata": {},
     "output_type": "display_data"
    }
   ],
   "source": [
    "## Now let's query the DB using the indexed table\n",
    "system.time({query = \"SELECT * FROM snps_idx WHERE chr = 1 AND pos = 225512846 AND loci = 'DNAH14';\"\n",
    "res = dbSendQuery(conn, query)\n",
    "rows = dbFetch(res)})"
   ]
  },
  {
   "cell_type": "code",
   "execution_count": 20,
   "metadata": {},
   "outputs": [
    {
     "data": {
      "text/html": [
       "<table>\n",
       "<thead><tr><th scope=col>rs</th><th scope=col>chr</th><th scope=col>pos</th><th scope=col>loci</th></tr></thead>\n",
       "<tbody>\n",
       "\t<tr><td>189425743</td><td>1        </td><td>225512846</td><td>DNAH14   </td></tr>\n",
       "</tbody>\n",
       "</table>\n"
      ],
      "text/latex": [
       "\\begin{tabular}{r|llll}\n",
       " rs & chr & pos & loci\\\\\n",
       "\\hline\n",
       "\t 189425743 & 1         & 225512846 & DNAH14   \\\\\n",
       "\\end{tabular}\n"
      ],
      "text/markdown": [
       "\n",
       "| rs | chr | pos | loci |\n",
       "|---|---|---|---|\n",
       "| 189425743 | 1         | 225512846 | DNAH14    |\n",
       "\n"
      ],
      "text/plain": [
       "  rs        chr pos       loci  \n",
       "1 189425743 1   225512846 DNAH14"
      ]
     },
     "metadata": {},
     "output_type": "display_data"
    },
    {
     "data": {
      "text/html": [
       "TRUE"
      ],
      "text/latex": [
       "TRUE"
      ],
      "text/markdown": [
       "TRUE"
      ],
      "text/plain": [
       "[1] TRUE"
      ]
     },
     "metadata": {},
     "output_type": "display_data"
    }
   ],
   "source": [
    "rows\n",
    "dbClearResult(res)"
   ]
  },
  {
   "cell_type": "code",
   "execution_count": 21,
   "metadata": {},
   "outputs": [
    {
     "data": {
      "text/html": [
       "TRUE"
      ],
      "text/latex": [
       "TRUE"
      ],
      "text/markdown": [
       "TRUE"
      ],
      "text/plain": [
       "[1] TRUE"
      ]
     },
     "metadata": {},
     "output_type": "display_data"
    }
   ],
   "source": [
    "## Disconnect from the DB\n",
    "dbDisconnect(conn)"
   ]
  },
  {
   "cell_type": "markdown",
   "metadata": {},
   "source": [
    "## `data.table`\n",
    "\n",
    "The `data.table` package implements what is essentially an optimized dataframe. \n",
    "\n",
    "[https://cran.r-project.org/web/packages/data.table/index.html](https://cran.r-project.org/web/packages/data.table/index.html)\n",
    "\n",
    "[https://cran.r-project.org/web/packages/data.table/vignettes/datatable-intro.html](https://cran.r-project.org/web/packages/data.table/vignettes/datatable-intro.html)"
   ]
  },
  {
   "cell_type": "code",
   "execution_count": 22,
   "metadata": {},
   "outputs": [
    {
     "data": {
      "text/plain": [
       "404 MB"
      ]
     },
     "metadata": {},
     "output_type": "display_data"
    },
    {
     "data": {
      "text/plain": [
       "   user  system elapsed \n",
       " 81.462   1.217  82.878 "
      ]
     },
     "metadata": {},
     "output_type": "display_data"
    },
    {
     "data": {
      "text/plain": [
       "779 MB"
      ]
     },
     "metadata": {},
     "output_type": "display_data"
    }
   ],
   "source": [
    "## Let's start by loading the data into a standard R dataframe\n",
    "## Note we can load directly from a compressed file (gzip)\n",
    "## This takes a few minutes\n",
    "mem_used()\n",
    "system.time({snps = read.delim('./xdata/chr1_reducedCols.txt.gz', header=F, skip=7, sep='\\t', \n",
    "                               col.names=c('rs', 'chr', 'pos', 'loci'), as.is=T, na.strings=c('NA', '', ' '))})\n",
    "mem_used()"
   ]
  },
  {
   "cell_type": "code",
   "execution_count": 23,
   "metadata": {},
   "outputs": [
    {
     "data": {
      "text/html": [
       "<ol class=list-inline>\n",
       "\t<li>12237943</li>\n",
       "\t<li>4</li>\n",
       "</ol>\n"
      ],
      "text/latex": [
       "\\begin{enumerate*}\n",
       "\\item 12237943\n",
       "\\item 4\n",
       "\\end{enumerate*}\n"
      ],
      "text/markdown": [
       "1. 12237943\n",
       "2. 4\n",
       "\n",
       "\n"
      ],
      "text/plain": [
       "[1] 12237943        4"
      ]
     },
     "metadata": {},
     "output_type": "display_data"
    }
   ],
   "source": [
    "## Get the size of the dataframe\n",
    "dim(snps)"
   ]
  },
  {
   "cell_type": "code",
   "execution_count": 24,
   "metadata": {},
   "outputs": [
    {
     "data": {
      "text/html": [
       "<table>\n",
       "<thead><tr><th scope=col>rs</th><th scope=col>chr</th><th scope=col>pos</th><th scope=col>loci</th></tr></thead>\n",
       "<tbody>\n",
       "\t<tr><td>171      </td><td>1        </td><td>175261679</td><td>NA       </td></tr>\n",
       "\t<tr><td>242      </td><td>1        </td><td> 20869461</td><td>NA       </td></tr>\n",
       "\t<tr><td>538      </td><td>1        </td><td>  6160958</td><td>KCNAB2   </td></tr>\n",
       "\t<tr><td>546      </td><td>1        </td><td> 93617546</td><td>TMED5    </td></tr>\n",
       "\t<tr><td>549      </td><td>1        </td><td> 15546825</td><td>TMEM51   </td></tr>\n",
       "\t<tr><td>568      </td><td>1        </td><td>203713133</td><td>ATP2B4   </td></tr>\n",
       "</tbody>\n",
       "</table>\n"
      ],
      "text/latex": [
       "\\begin{tabular}{r|llll}\n",
       " rs & chr & pos & loci\\\\\n",
       "\\hline\n",
       "\t 171       & 1         & 175261679 & NA       \\\\\n",
       "\t 242       & 1         &  20869461 & NA       \\\\\n",
       "\t 538       & 1         &   6160958 & KCNAB2   \\\\\n",
       "\t 546       & 1         &  93617546 & TMED5    \\\\\n",
       "\t 549       & 1         &  15546825 & TMEM51   \\\\\n",
       "\t 568       & 1         & 203713133 & ATP2B4   \\\\\n",
       "\\end{tabular}\n"
      ],
      "text/markdown": [
       "\n",
       "| rs | chr | pos | loci |\n",
       "|---|---|---|---|\n",
       "| 171       | 1         | 175261679 | NA        |\n",
       "| 242       | 1         |  20869461 | NA        |\n",
       "| 538       | 1         |   6160958 | KCNAB2    |\n",
       "| 546       | 1         |  93617546 | TMED5     |\n",
       "| 549       | 1         |  15546825 | TMEM51    |\n",
       "| 568       | 1         | 203713133 | ATP2B4    |\n",
       "\n"
      ],
      "text/plain": [
       "  rs  chr pos       loci  \n",
       "1 171 1   175261679 NA    \n",
       "2 242 1    20869461 NA    \n",
       "3 538 1     6160958 KCNAB2\n",
       "4 546 1    93617546 TMED5 \n",
       "5 549 1    15546825 TMEM51\n",
       "6 568 1   203713133 ATP2B4"
      ]
     },
     "metadata": {},
     "output_type": "display_data"
    }
   ],
   "source": [
    "## View the first few rows\n",
    "head(snps)"
   ]
  },
  {
   "cell_type": "code",
   "execution_count": 25,
   "metadata": {},
   "outputs": [
    {
     "data": {
      "text/html": [
       "<dl class=dl-horizontal>\n",
       "\t<dt>rs</dt>\n",
       "\t\t<dd>'integer'</dd>\n",
       "\t<dt>chr</dt>\n",
       "\t\t<dd>'integer'</dd>\n",
       "\t<dt>pos</dt>\n",
       "\t\t<dd>'integer'</dd>\n",
       "\t<dt>loci</dt>\n",
       "\t\t<dd>'character'</dd>\n",
       "</dl>\n"
      ],
      "text/latex": [
       "\\begin{description*}\n",
       "\\item[rs] 'integer'\n",
       "\\item[chr] 'integer'\n",
       "\\item[pos] 'integer'\n",
       "\\item[loci] 'character'\n",
       "\\end{description*}\n"
      ],
      "text/markdown": [
       "rs\n",
       ":   'integer'chr\n",
       ":   'integer'pos\n",
       ":   'integer'loci\n",
       ":   'character'\n",
       "\n"
      ],
      "text/plain": [
       "         rs         chr         pos        loci \n",
       "  \"integer\"   \"integer\"   \"integer\" \"character\" "
      ]
     },
     "metadata": {},
     "output_type": "display_data"
    }
   ],
   "source": [
    "## Let's look at the data types for each column\n",
    "sapply(snps, class)"
   ]
  },
  {
   "cell_type": "markdown",
   "metadata": {},
   "source": [
    "****It's important to note here that (IMO) R does a better job with missing values and data types than Pandas. For example, missing values are allowed in both character and numeric columns, and don't require special treatment. Of course, we saw that the data cleaning in Pandas was fairly easy if you know what to look for.**"
   ]
  },
  {
   "cell_type": "code",
   "execution_count": 26,
   "metadata": {},
   "outputs": [
    {
     "data": {
      "text/plain": [
       "   user  system elapsed \n",
       "  0.265   0.065   0.330 "
      ]
     },
     "metadata": {},
     "output_type": "display_data"
    },
    {
     "data": {
      "text/html": [
       "<table>\n",
       "<thead><tr><th></th><th scope=col>rs</th><th scope=col>chr</th><th scope=col>pos</th><th scope=col>loci</th></tr></thead>\n",
       "<tbody>\n",
       "\t<tr><th scope=row>3456789</th><td>189425743</td><td>1        </td><td>225512846</td><td>DNAH14   </td></tr>\n",
       "</tbody>\n",
       "</table>\n"
      ],
      "text/latex": [
       "\\begin{tabular}{r|llll}\n",
       "  & rs & chr & pos & loci\\\\\n",
       "\\hline\n",
       "\t3456789 & 189425743 & 1         & 225512846 & DNAH14   \\\\\n",
       "\\end{tabular}\n"
      ],
      "text/markdown": [
       "\n",
       "| <!--/--> | rs | chr | pos | loci |\n",
       "|---|---|---|---|---|\n",
       "| 3456789 | 189425743 | 1         | 225512846 | DNAH14    |\n",
       "\n"
      ],
      "text/plain": [
       "        rs        chr pos       loci  \n",
       "3456789 189425743 1   225512846 DNAH14"
      ]
     },
     "metadata": {},
     "output_type": "display_data"
    }
   ],
   "source": [
    "## Search the dataframe for a specific row\n",
    "## Note: here we wrap the condition inside which() to exclude rows with NAs\n",
    "system.time({row = snps[which(with(snps, chr==1 & pos==225512846 & loci=='DNAH14')), ]})\n",
    "row"
   ]
  },
  {
   "cell_type": "code",
   "execution_count": 27,
   "metadata": {},
   "outputs": [
    {
     "data": {
      "text/plain": [
       "   user  system elapsed \n",
       "  0.045   0.011   0.058 "
      ]
     },
     "metadata": {},
     "output_type": "display_data"
    },
    {
     "data": {
      "text/html": [
       "<table>\n",
       "<thead><tr><th></th><th scope=col>rs</th><th scope=col>chr</th><th scope=col>pos</th><th scope=col>loci</th></tr></thead>\n",
       "<tbody>\n",
       "\t<tr><th scope=row>3456789</th><td>189425743</td><td>1        </td><td>225512846</td><td>DNAH14   </td></tr>\n",
       "</tbody>\n",
       "</table>\n"
      ],
      "text/latex": [
       "\\begin{tabular}{r|llll}\n",
       "  & rs & chr & pos & loci\\\\\n",
       "\\hline\n",
       "\t3456789 & 189425743 & 1         & 225512846 & DNAH14   \\\\\n",
       "\\end{tabular}\n"
      ],
      "text/markdown": [
       "\n",
       "| <!--/--> | rs | chr | pos | loci |\n",
       "|---|---|---|---|---|\n",
       "| 3456789 | 189425743 | 1         | 225512846 | DNAH14    |\n",
       "\n"
      ],
      "text/plain": [
       "        rs        chr pos       loci  \n",
       "3456789 189425743 1   225512846 DNAH14"
      ]
     },
     "metadata": {},
     "output_type": "display_data"
    }
   ],
   "source": [
    "## Don't make the query more complicated than it needs to be\n",
    "system.time({row = snps[which(with(snps, pos==225512846)), ]})\n",
    "row"
   ]
  },
  {
   "cell_type": "markdown",
   "metadata": {
    "collapsed": true
   },
   "source": [
    "### Load Data into a `data.table`"
   ]
  },
  {
   "cell_type": "code",
   "execution_count": 28,
   "metadata": {},
   "outputs": [
    {
     "data": {
      "text/plain": [
       "245 MB"
      ]
     },
     "metadata": {},
     "output_type": "display_data"
    }
   ],
   "source": [
    "## Load SNP data into data.table\n",
    "mem_change({snps_dt = as.data.table(snps)})"
   ]
  },
  {
   "cell_type": "code",
   "execution_count": 29,
   "metadata": {},
   "outputs": [
    {
     "data": {
      "text/html": [
       "<table>\n",
       "<thead><tr><th scope=col>loci</th><th scope=col>N</th></tr></thead>\n",
       "<tbody>\n",
       "\t<tr><td>NA             </td><td>9              </td></tr>\n",
       "\t<tr><td>KCNAB2         </td><td>1              </td></tr>\n",
       "\t<tr><td>TMED5          </td><td>1              </td></tr>\n",
       "\t<tr><td>TMEM51         </td><td>1              </td></tr>\n",
       "\t<tr><td>ATP2B4         </td><td>1              </td></tr>\n",
       "\t<tr><td>FUCA1          </td><td>1              </td></tr>\n",
       "\t<tr><td>C1orf123,CPT2  </td><td>1              </td></tr>\n",
       "\t<tr><td>SERPINC1       </td><td>1              </td></tr>\n",
       "\t<tr><td>AGT            </td><td>1              </td></tr>\n",
       "\t<tr><td>PTP4A2         </td><td>1              </td></tr>\n",
       "\t<tr><td>CSMD2          </td><td>1              </td></tr>\n",
       "\t<tr><td>GADD45A        </td><td>3              </td></tr>\n",
       "\t<tr><td>F11R           </td><td>1              </td></tr>\n",
       "\t<tr><td>FCGR2B         </td><td>1              </td></tr>\n",
       "\t<tr><td>DHX9           </td><td>7              </td></tr>\n",
       "\t<tr><td>NID1           </td><td>1              </td></tr>\n",
       "\t<tr><td>HNRNPU,SNORA100</td><td>4              </td></tr>\n",
       "\t<tr><td>ENSA           </td><td>5              </td></tr>\n",
       "\t<tr><td>PTGFR          </td><td>2              </td></tr>\n",
       "\t<tr><td>TGFB2,TGFB2-OT1</td><td>1              </td></tr>\n",
       "\t<tr><td>TGFBR3         </td><td>1              </td></tr>\n",
       "\t<tr><td>UFC1,USP21     </td><td>1              </td></tr>\n",
       "\t<tr><td>ADORA3,TMIGD3  </td><td>1              </td></tr>\n",
       "\t<tr><td>PTGFRN         </td><td>1              </td></tr>\n",
       "\t<tr><td>MROH7-TTC4,TTC4</td><td>2              </td></tr>\n",
       "</tbody>\n",
       "</table>\n"
      ],
      "text/latex": [
       "\\begin{tabular}{r|ll}\n",
       " loci & N\\\\\n",
       "\\hline\n",
       "\t NA              & 9              \\\\\n",
       "\t KCNAB2          & 1              \\\\\n",
       "\t TMED5           & 1              \\\\\n",
       "\t TMEM51          & 1              \\\\\n",
       "\t ATP2B4          & 1              \\\\\n",
       "\t FUCA1           & 1              \\\\\n",
       "\t C1orf123,CPT2   & 1              \\\\\n",
       "\t SERPINC1        & 1              \\\\\n",
       "\t AGT             & 1              \\\\\n",
       "\t PTP4A2          & 1              \\\\\n",
       "\t CSMD2           & 1              \\\\\n",
       "\t GADD45A         & 3              \\\\\n",
       "\t F11R            & 1              \\\\\n",
       "\t FCGR2B          & 1              \\\\\n",
       "\t DHX9            & 7              \\\\\n",
       "\t NID1            & 1              \\\\\n",
       "\t HNRNPU,SNORA100 & 4              \\\\\n",
       "\t ENSA            & 5              \\\\\n",
       "\t PTGFR           & 2              \\\\\n",
       "\t TGFB2,TGFB2-OT1 & 1              \\\\\n",
       "\t TGFBR3          & 1              \\\\\n",
       "\t UFC1,USP21      & 1              \\\\\n",
       "\t ADORA3,TMIGD3   & 1              \\\\\n",
       "\t PTGFRN          & 1              \\\\\n",
       "\t MROH7-TTC4,TTC4 & 2              \\\\\n",
       "\\end{tabular}\n"
      ],
      "text/markdown": [
       "\n",
       "| loci | N |\n",
       "|---|---|\n",
       "| NA              | 9               |\n",
       "| KCNAB2          | 1               |\n",
       "| TMED5           | 1               |\n",
       "| TMEM51          | 1               |\n",
       "| ATP2B4          | 1               |\n",
       "| FUCA1           | 1               |\n",
       "| C1orf123,CPT2   | 1               |\n",
       "| SERPINC1        | 1               |\n",
       "| AGT             | 1               |\n",
       "| PTP4A2          | 1               |\n",
       "| CSMD2           | 1               |\n",
       "| GADD45A         | 3               |\n",
       "| F11R            | 1               |\n",
       "| FCGR2B          | 1               |\n",
       "| DHX9            | 7               |\n",
       "| NID1            | 1               |\n",
       "| HNRNPU,SNORA100 | 4               |\n",
       "| ENSA            | 5               |\n",
       "| PTGFR           | 2               |\n",
       "| TGFB2,TGFB2-OT1 | 1               |\n",
       "| TGFBR3          | 1               |\n",
       "| UFC1,USP21      | 1               |\n",
       "| ADORA3,TMIGD3   | 1               |\n",
       "| PTGFRN          | 1               |\n",
       "| MROH7-TTC4,TTC4 | 2               |\n",
       "\n"
      ],
      "text/plain": [
       "   loci            N\n",
       "1  NA              9\n",
       "2  KCNAB2          1\n",
       "3  TMED5           1\n",
       "4  TMEM51          1\n",
       "5  ATP2B4          1\n",
       "6  FUCA1           1\n",
       "7  C1orf123,CPT2   1\n",
       "8  SERPINC1        1\n",
       "9  AGT             1\n",
       "10 PTP4A2          1\n",
       "11 CSMD2           1\n",
       "12 GADD45A         3\n",
       "13 F11R            1\n",
       "14 FCGR2B          1\n",
       "15 DHX9            7\n",
       "16 NID1            1\n",
       "17 HNRNPU,SNORA100 4\n",
       "18 ENSA            5\n",
       "19 PTGFR           2\n",
       "20 TGFB2,TGFB2-OT1 1\n",
       "21 TGFBR3          1\n",
       "22 UFC1,USP21      1\n",
       "23 ADORA3,TMIGD3   1\n",
       "24 PTGFRN          1\n",
       "25 MROH7-TTC4,TTC4 2"
      ]
     },
     "metadata": {},
     "output_type": "display_data"
    }
   ],
   "source": [
    "## General syntax for \"querying\" a data.table is DT[i, j, by]\n",
    "## For example, here we will ask: How many SNPs are mapped to each gene (for just the first 50 SNPs)?\n",
    "snps_dt[1:50, list(.N), by=\"loci\"]"
   ]
  },
  {
   "cell_type": "code",
   "execution_count": 30,
   "metadata": {},
   "outputs": [
    {
     "data": {
      "text/plain": [
       "   user  system elapsed \n",
       "  2.862   0.210   0.780 "
      ]
     },
     "metadata": {},
     "output_type": "display_data"
    },
    {
     "data": {
      "text/html": [
       "<table>\n",
       "<thead><tr><th scope=col>rs</th><th scope=col>chr</th><th scope=col>pos</th><th scope=col>loci</th></tr></thead>\n",
       "<tbody>\n",
       "\t<tr><td>189425743</td><td>1        </td><td>225512846</td><td>DNAH14   </td></tr>\n",
       "</tbody>\n",
       "</table>\n"
      ],
      "text/latex": [
       "\\begin{tabular}{r|llll}\n",
       " rs & chr & pos & loci\\\\\n",
       "\\hline\n",
       "\t 189425743 & 1         & 225512846 & DNAH14   \\\\\n",
       "\\end{tabular}\n"
      ],
      "text/markdown": [
       "\n",
       "| rs | chr | pos | loci |\n",
       "|---|---|---|---|\n",
       "| 189425743 | 1         | 225512846 | DNAH14    |\n",
       "\n"
      ],
      "text/plain": [
       "  rs        chr pos       loci  \n",
       "1 189425743 1   225512846 DNAH14"
      ]
     },
     "metadata": {},
     "output_type": "display_data"
    }
   ],
   "source": [
    "## Query the data.table\n",
    "system.time({row = snps_dt[chr==1 & pos==225512846 & loci=='DNAH14',]})\n",
    "row"
   ]
  },
  {
   "cell_type": "code",
   "execution_count": 31,
   "metadata": {},
   "outputs": [],
   "source": [
    "## Add a key to the data.table\n",
    "setkey(snps_dt, pos)"
   ]
  },
  {
   "cell_type": "code",
   "execution_count": 32,
   "metadata": {},
   "outputs": [
    {
     "data": {
      "text/plain": [
       "   user  system elapsed \n",
       "  1.988   0.141   0.540 "
      ]
     },
     "metadata": {},
     "output_type": "display_data"
    },
    {
     "data": {
      "text/html": [
       "<table>\n",
       "<thead><tr><th scope=col>rs</th><th scope=col>chr</th><th scope=col>pos</th><th scope=col>loci</th></tr></thead>\n",
       "<tbody>\n",
       "\t<tr><td>189425743</td><td>1        </td><td>225512846</td><td>DNAH14   </td></tr>\n",
       "</tbody>\n",
       "</table>\n"
      ],
      "text/latex": [
       "\\begin{tabular}{r|llll}\n",
       " rs & chr & pos & loci\\\\\n",
       "\\hline\n",
       "\t 189425743 & 1         & 225512846 & DNAH14   \\\\\n",
       "\\end{tabular}\n"
      ],
      "text/markdown": [
       "\n",
       "| rs | chr | pos | loci |\n",
       "|---|---|---|---|\n",
       "| 189425743 | 1         | 225512846 | DNAH14    |\n",
       "\n"
      ],
      "text/plain": [
       "  rs        chr pos       loci  \n",
       "1 189425743 1   225512846 DNAH14"
      ]
     },
     "metadata": {},
     "output_type": "display_data"
    }
   ],
   "source": [
    "## Query the data.table with key\n",
    "system.time({row = snps_dt[chr==1 & pos==225512846 & loci=='DNAH14']})\n",
    "row"
   ]
  },
  {
   "cell_type": "code",
   "execution_count": 33,
   "metadata": {},
   "outputs": [
    {
     "data": {
      "text/plain": [
       "   user  system elapsed \n",
       "  0.005   0.001   0.001 "
      ]
     },
     "metadata": {},
     "output_type": "display_data"
    },
    {
     "data": {
      "text/html": [
       "<table>\n",
       "<thead><tr><th scope=col>rs</th><th scope=col>chr</th><th scope=col>pos</th><th scope=col>loci</th></tr></thead>\n",
       "<tbody>\n",
       "\t<tr><td>189425743</td><td>1        </td><td>225512846</td><td>DNAH14   </td></tr>\n",
       "</tbody>\n",
       "</table>\n"
      ],
      "text/latex": [
       "\\begin{tabular}{r|llll}\n",
       " rs & chr & pos & loci\\\\\n",
       "\\hline\n",
       "\t 189425743 & 1         & 225512846 & DNAH14   \\\\\n",
       "\\end{tabular}\n"
      ],
      "text/markdown": [
       "\n",
       "| rs | chr | pos | loci |\n",
       "|---|---|---|---|\n",
       "| 189425743 | 1         | 225512846 | DNAH14    |\n",
       "\n"
      ],
      "text/plain": [
       "  rs        chr pos       loci  \n",
       "1 189425743 1   225512846 DNAH14"
      ]
     },
     "metadata": {},
     "output_type": "display_data"
    }
   ],
   "source": [
    "## Matching on only the key improves performance significantly over \n",
    "## a regular dataframe\n",
    "system.time({row = snps_dt[pos==225512846]})\n",
    "row"
   ]
  },
  {
   "cell_type": "markdown",
   "metadata": {},
   "source": [
    "## BigMemory\n",
    "\n",
    "The `bigmemory` package allows for storing large datasets in shared-memory and file-backed data structures. This allows for large data structures to be shared across multiple R processes to facilitate efficient parallel processing. \n",
    "\n",
    "[https://cran.r-project.org/web/packages/bigmemory/index.html](https://cran.r-project.org/web/packages/bigmemory/index.html)\n",
    "\n",
    "One caveat is that `bigmemory` creates matrices, which will handle only a single data type, unlike dataframes. By default, character columns in dataframes will be converted to factors and factors converted to numeric levels. The `ff` package may be a better solution if you must have multiple data types in the same object."
   ]
  },
  {
   "cell_type": "markdown",
   "metadata": {},
   "source": [
    "Similar to `bigmemory`, the `ff` package allows for on-disk storage of large datasets with efficient data access and the ability to share the same data structure across multiple R processes. I won't cover this package here, but see link below for more info. \n",
    "\n",
    "[https://cran.r-project.org/web/packages/ff/index.html](https://cran.r-project.org/web/packages/ff/index.html)"
   ]
  },
  {
   "cell_type": "code",
   "execution_count": 34,
   "metadata": {},
   "outputs": [
    {
     "data": {
      "text/html": [
       "TRUE"
      ],
      "text/latex": [
       "TRUE"
      ],
      "text/markdown": [
       "TRUE"
      ],
      "text/plain": [
       "[1] TRUE"
      ]
     },
     "metadata": {},
     "output_type": "display_data"
    }
   ],
   "source": [
    "## Let's create a file-backed bigmatrix object using only \n",
    "## the first 3 columns of the snps dataframe\n",
    "## First check that the file doesn't exist\n",
    "if (file.exists(\"./xdata/snps_bigmem.bin\")) {\n",
    "    file.remove(\"./xdata/snps_bigmem.bin\")\n",
    "    file.remove(\"./xdata/snps_bigmem.bin.desc\")\n",
    "}"
   ]
  },
  {
   "cell_type": "code",
   "execution_count": 35,
   "metadata": {},
   "outputs": [
    {
     "name": "stderr",
     "output_type": "stream",
     "text": [
      "Warning message in filebacked.big.matrix(nrow = nrow, ncol = ncol, type = type, :\n",
      "“No descriptor file given, it will be named snps_bigmem.bin.desc”"
     ]
    },
    {
     "data": {
      "text/plain": [
       "143 kB"
      ]
     },
     "metadata": {},
     "output_type": "display_data"
    }
   ],
   "source": [
    "## Create a bigmatrix object with the first three columns of the SNPs dataframe (all integers)\n",
    "## Note: we are first converting the dataframe to a numeric matrix\n",
    "mem_change({snps_bm = as.big.matrix(as.matrix(snps[,1:3]), type=\"integer\", backingfile=\"snps_bigmem.bin\", backingpath=\"./xdata\")})"
   ]
  },
  {
   "cell_type": "code",
   "execution_count": 36,
   "metadata": {},
   "outputs": [
    {
     "name": "stdout",
     "output_type": "stream",
     "text": [
      "[1] \"-rw-r--r--  1 mooneymi  1971611142        351 Jan  9 08:03 ./xdata/snps_bigmem.bin.desc\"\n",
      "[2] \"-rw-r--r--  1 mooneymi  1971611142  146855317 Jan  9 08:03 ./xdata/snps_bigmem.bin\"     \n"
     ]
    }
   ],
   "source": [
    "## How much space is used on disk\n",
    "print(system(\"ls -lt ./xdata/snps_bigmem*\", intern=TRUE))"
   ]
  },
  {
   "cell_type": "code",
   "execution_count": 37,
   "metadata": {},
   "outputs": [
    {
     "data": {
      "text/html": [
       "<table>\n",
       "<thead><tr><th scope=col>rs</th><th scope=col>chr</th><th scope=col>pos</th></tr></thead>\n",
       "<tbody>\n",
       "\t<tr><td>171      </td><td>1        </td><td>175261679</td></tr>\n",
       "\t<tr><td>242      </td><td>1        </td><td> 20869461</td></tr>\n",
       "\t<tr><td>538      </td><td>1        </td><td>  6160958</td></tr>\n",
       "\t<tr><td>546      </td><td>1        </td><td> 93617546</td></tr>\n",
       "\t<tr><td>549      </td><td>1        </td><td> 15546825</td></tr>\n",
       "\t<tr><td>568      </td><td>1        </td><td>203713133</td></tr>\n",
       "</tbody>\n",
       "</table>\n"
      ],
      "text/latex": [
       "\\begin{tabular}{lll}\n",
       " rs & chr & pos\\\\\n",
       "\\hline\n",
       "\t 171       & 1         & 175261679\\\\\n",
       "\t 242       & 1         &  20869461\\\\\n",
       "\t 538       & 1         &   6160958\\\\\n",
       "\t 546       & 1         &  93617546\\\\\n",
       "\t 549       & 1         &  15546825\\\\\n",
       "\t 568       & 1         & 203713133\\\\\n",
       "\\end{tabular}\n"
      ],
      "text/markdown": [
       "\n",
       "| rs | chr | pos |\n",
       "|---|---|---|\n",
       "| 171       | 1         | 175261679 |\n",
       "| 242       | 1         |  20869461 |\n",
       "| 538       | 1         |   6160958 |\n",
       "| 546       | 1         |  93617546 |\n",
       "| 549       | 1         |  15546825 |\n",
       "| 568       | 1         | 203713133 |\n",
       "\n"
      ],
      "text/plain": [
       "     rs  chr pos      \n",
       "[1,] 171 1   175261679\n",
       "[2,] 242 1    20869461\n",
       "[3,] 538 1     6160958\n",
       "[4,] 546 1    93617546\n",
       "[5,] 549 1    15546825\n",
       "[6,] 568 1   203713133"
      ]
     },
     "metadata": {},
     "output_type": "display_data"
    }
   ],
   "source": [
    "head(snps_bm)"
   ]
  },
  {
   "cell_type": "code",
   "execution_count": 38,
   "metadata": {},
   "outputs": [
    {
     "data": {
      "text/plain": [
       "   user  system elapsed \n",
       "  0.345   0.001   0.345 "
      ]
     },
     "metadata": {},
     "output_type": "display_data"
    },
    {
     "data": {
      "text/html": [
       "<dl class=dl-horizontal>\n",
       "\t<dt>rs</dt>\n",
       "\t\t<dd>189425743</dd>\n",
       "\t<dt>chr</dt>\n",
       "\t\t<dd>1</dd>\n",
       "\t<dt>pos</dt>\n",
       "\t\t<dd>225512846</dd>\n",
       "</dl>\n"
      ],
      "text/latex": [
       "\\begin{description*}\n",
       "\\item[rs] 189425743\n",
       "\\item[chr] 1\n",
       "\\item[pos] 225512846\n",
       "\\end{description*}\n"
      ],
      "text/markdown": [
       "rs\n",
       ":   189425743chr\n",
       ":   1pos\n",
       ":   225512846\n",
       "\n"
      ],
      "text/plain": [
       "       rs       chr       pos \n",
       "189425743         1 225512846 "
      ]
     },
     "metadata": {},
     "output_type": "display_data"
    }
   ],
   "source": [
    "## Use the mwhich() function to query the bigmatrix object\n",
    "system.time({row = snps_bm[mwhich(snps_bm, c('chr','pos'), c(1, 225512846), c('eq', 'eq')), ]})\n",
    "row"
   ]
  },
  {
   "cell_type": "markdown",
   "metadata": {
    "collapsed": true
   },
   "source": [
    "The performance for searching is pretty poor, but keep in mind that `bigmemory` was designed with numeric matrices in mind, not tables of heterogeneous data. "
   ]
  },
  {
   "cell_type": "code",
   "execution_count": 39,
   "metadata": {},
   "outputs": [
    {
     "data": {
      "text/plain": [
       "   user  system elapsed \n",
       "      0       0       0 "
      ]
     },
     "metadata": {},
     "output_type": "display_data"
    }
   ],
   "source": [
    "## Data access is pretty fast for specific data elements\n",
    "## i.e. selecting a specific index\n",
    "system.time({z = snps_bm[1200:1220,]})"
   ]
  },
  {
   "cell_type": "code",
   "execution_count": 40,
   "metadata": {},
   "outputs": [
    {
     "data": {
      "text/html": [
       "<table>\n",
       "<thead><tr><th scope=col>rs</th><th scope=col>chr</th><th scope=col>pos</th></tr></thead>\n",
       "<tbody>\n",
       "\t<tr><td>12361    </td><td>1        </td><td>224564377</td></tr>\n",
       "\t<tr><td>12371    </td><td>1        </td><td>180163390</td></tr>\n",
       "\t<tr><td>12375    </td><td>1        </td><td> 10596341</td></tr>\n",
       "\t<tr><td>12384    </td><td>1        </td><td> 32256166</td></tr>\n",
       "\t<tr><td>12386    </td><td>1        </td><td> 36068863</td></tr>\n",
       "\t<tr><td>12395    </td><td>1        </td><td> 38268836</td></tr>\n",
       "\t<tr><td>12419    </td><td>1        </td><td> 44686322</td></tr>\n",
       "\t<tr><td>12439    </td><td>1        </td><td> 25169634</td></tr>\n",
       "\t<tr><td>12442    </td><td>1        </td><td> 43829177</td></tr>\n",
       "\t<tr><td>12455    </td><td>1        </td><td> 55533917</td></tr>\n",
       "\t<tr><td>12461    </td><td>1        </td><td>167022381</td></tr>\n",
       "\t<tr><td>12466    </td><td>1        </td><td>201197808</td></tr>\n",
       "\t<tr><td>12475    </td><td>1        </td><td>149763086</td></tr>\n",
       "\t<tr><td>12475    </td><td>1        </td><td>       NA</td></tr>\n",
       "\t<tr><td>12492    </td><td>1        </td><td> 40649346</td></tr>\n",
       "\t<tr><td>12501    </td><td>1        </td><td>173835000</td></tr>\n",
       "\t<tr><td>12504    </td><td>1        </td><td> 54497663</td></tr>\n",
       "\t<tr><td>12518    </td><td>1        </td><td>219783203</td></tr>\n",
       "\t<tr><td>12525    </td><td>1        </td><td>  1677564</td></tr>\n",
       "\t<tr><td>12531    </td><td>1        </td><td>193053762</td></tr>\n",
       "\t<tr><td>12542    </td><td>1        </td><td>228682330</td></tr>\n",
       "</tbody>\n",
       "</table>\n"
      ],
      "text/latex": [
       "\\begin{tabular}{lll}\n",
       " rs & chr & pos\\\\\n",
       "\\hline\n",
       "\t 12361     & 1         & 224564377\\\\\n",
       "\t 12371     & 1         & 180163390\\\\\n",
       "\t 12375     & 1         &  10596341\\\\\n",
       "\t 12384     & 1         &  32256166\\\\\n",
       "\t 12386     & 1         &  36068863\\\\\n",
       "\t 12395     & 1         &  38268836\\\\\n",
       "\t 12419     & 1         &  44686322\\\\\n",
       "\t 12439     & 1         &  25169634\\\\\n",
       "\t 12442     & 1         &  43829177\\\\\n",
       "\t 12455     & 1         &  55533917\\\\\n",
       "\t 12461     & 1         & 167022381\\\\\n",
       "\t 12466     & 1         & 201197808\\\\\n",
       "\t 12475     & 1         & 149763086\\\\\n",
       "\t 12475     & 1         &        NA\\\\\n",
       "\t 12492     & 1         &  40649346\\\\\n",
       "\t 12501     & 1         & 173835000\\\\\n",
       "\t 12504     & 1         &  54497663\\\\\n",
       "\t 12518     & 1         & 219783203\\\\\n",
       "\t 12525     & 1         &   1677564\\\\\n",
       "\t 12531     & 1         & 193053762\\\\\n",
       "\t 12542     & 1         & 228682330\\\\\n",
       "\\end{tabular}\n"
      ],
      "text/markdown": [
       "\n",
       "| rs | chr | pos |\n",
       "|---|---|---|\n",
       "| 12361     | 1         | 224564377 |\n",
       "| 12371     | 1         | 180163390 |\n",
       "| 12375     | 1         |  10596341 |\n",
       "| 12384     | 1         |  32256166 |\n",
       "| 12386     | 1         |  36068863 |\n",
       "| 12395     | 1         |  38268836 |\n",
       "| 12419     | 1         |  44686322 |\n",
       "| 12439     | 1         |  25169634 |\n",
       "| 12442     | 1         |  43829177 |\n",
       "| 12455     | 1         |  55533917 |\n",
       "| 12461     | 1         | 167022381 |\n",
       "| 12466     | 1         | 201197808 |\n",
       "| 12475     | 1         | 149763086 |\n",
       "| 12475     | 1         |        NA |\n",
       "| 12492     | 1         |  40649346 |\n",
       "| 12501     | 1         | 173835000 |\n",
       "| 12504     | 1         |  54497663 |\n",
       "| 12518     | 1         | 219783203 |\n",
       "| 12525     | 1         |   1677564 |\n",
       "| 12531     | 1         | 193053762 |\n",
       "| 12542     | 1         | 228682330 |\n",
       "\n"
      ],
      "text/plain": [
       "      rs    chr pos      \n",
       " [1,] 12361 1   224564377\n",
       " [2,] 12371 1   180163390\n",
       " [3,] 12375 1    10596341\n",
       " [4,] 12384 1    32256166\n",
       " [5,] 12386 1    36068863\n",
       " [6,] 12395 1    38268836\n",
       " [7,] 12419 1    44686322\n",
       " [8,] 12439 1    25169634\n",
       " [9,] 12442 1    43829177\n",
       "[10,] 12455 1    55533917\n",
       "[11,] 12461 1   167022381\n",
       "[12,] 12466 1   201197808\n",
       "[13,] 12475 1   149763086\n",
       "[14,] 12475 1          NA\n",
       "[15,] 12492 1    40649346\n",
       "[16,] 12501 1   173835000\n",
       "[17,] 12504 1    54497663\n",
       "[18,] 12518 1   219783203\n",
       "[19,] 12525 1     1677564\n",
       "[20,] 12531 1   193053762\n",
       "[21,] 12542 1   228682330"
      ]
     },
     "metadata": {},
     "output_type": "display_data"
    }
   ],
   "source": [
    "z"
   ]
  },
  {
   "cell_type": "markdown",
   "metadata": {},
   "source": [
    "### `bigalgebra` \n",
    "\n",
    "The `bigalgebra` package allows efficient linear algebra operations on `bigmemory` matrices.\n",
    "\n",
    "[https://cran.r-project.org/web/packages/bigalgebra/index.html](https://cran.r-project.org/web/packages/bigalgebra/index.html)"
   ]
  },
  {
   "cell_type": "code",
   "execution_count": 41,
   "metadata": {},
   "outputs": [
    {
     "data": {
      "text/html": [
       "TRUE"
      ],
      "text/latex": [
       "TRUE"
      ],
      "text/markdown": [
       "TRUE"
      ],
      "text/plain": [
       "[1] TRUE"
      ]
     },
     "metadata": {},
     "output_type": "display_data"
    },
    {
     "name": "stderr",
     "output_type": "stream",
     "text": [
      "Warning message in filebacked.big.matrix(nrow = nrow, ncol = ncol, type = type, :\n",
      "“No descriptor file given, it will be named bigmem.bin.desc”"
     ]
    }
   ],
   "source": [
    "if (file.exists(\"./xdata/bigmem.bin\")) {\n",
    "    file.remove(\"./xdata/bigmem.bin\")\n",
    "    file.remove(\"./xdata/bigmem.bin.desc\")\n",
    "}\n",
    "## Let's create another on-disk bigmatrix\n",
    "bm = as.big.matrix(matrix(runif(1000000), 10000, 100), type=\"double\", backingfile=\"bigmem.bin\", backingpath=\"./xdata\")"
   ]
  },
  {
   "cell_type": "code",
   "execution_count": 42,
   "metadata": {},
   "outputs": [
    {
     "name": "stderr",
     "output_type": "stream",
     "text": [
      "Warning message in as.big.matrix(bm[1, ]):\n",
      "“Coercing vector to a single-column matrix.”"
     ]
    }
   ],
   "source": [
    "## Create another bigmatrix object with just the first row\n",
    "v = as.big.matrix(bm[1,])"
   ]
  },
  {
   "cell_type": "code",
   "execution_count": 43,
   "metadata": {},
   "outputs": [
    {
     "data": {
      "text/html": [
       "<ol class=list-inline>\n",
       "\t<li>10000</li>\n",
       "\t<li>100</li>\n",
       "</ol>\n"
      ],
      "text/latex": [
       "\\begin{enumerate*}\n",
       "\\item 10000\n",
       "\\item 100\n",
       "\\end{enumerate*}\n"
      ],
      "text/markdown": [
       "1. 10000\n",
       "2. 100\n",
       "\n",
       "\n"
      ],
      "text/plain": [
       "[1] 10000   100"
      ]
     },
     "metadata": {},
     "output_type": "display_data"
    }
   ],
   "source": [
    "## Dimensions of the matrix\n",
    "dim(bm)"
   ]
  },
  {
   "cell_type": "code",
   "execution_count": 44,
   "metadata": {},
   "outputs": [
    {
     "data": {
      "text/html": [
       "<ol class=list-inline>\n",
       "\t<li>100</li>\n",
       "\t<li>1</li>\n",
       "</ol>\n"
      ],
      "text/latex": [
       "\\begin{enumerate*}\n",
       "\\item 100\n",
       "\\item 1\n",
       "\\end{enumerate*}\n"
      ],
      "text/markdown": [
       "1. 100\n",
       "2. 1\n",
       "\n",
       "\n"
      ],
      "text/plain": [
       "[1] 100   1"
      ]
     },
     "metadata": {},
     "output_type": "display_data"
    }
   ],
   "source": [
    "## Dimensions of the vector\n",
    "dim(v)"
   ]
  },
  {
   "cell_type": "code",
   "execution_count": 45,
   "metadata": {},
   "outputs": [
    {
     "data": {
      "text/plain": [
       "   user  system elapsed \n",
       "  0.006   0.002   0.005 "
      ]
     },
     "metadata": {},
     "output_type": "display_data"
    }
   ],
   "source": [
    "## Calculate the dot product\n",
    "system.time({x = bm %*% v})"
   ]
  },
  {
   "cell_type": "code",
   "execution_count": 46,
   "metadata": {},
   "outputs": [
    {
     "data": {
      "text/html": [
       "<ol class=list-inline>\n",
       "\t<li>10000</li>\n",
       "\t<li>1</li>\n",
       "</ol>\n"
      ],
      "text/latex": [
       "\\begin{enumerate*}\n",
       "\\item 10000\n",
       "\\item 1\n",
       "\\end{enumerate*}\n"
      ],
      "text/markdown": [
       "1. 10000\n",
       "2. 1\n",
       "\n",
       "\n"
      ],
      "text/plain": [
       "[1] 10000     1"
      ]
     },
     "metadata": {},
     "output_type": "display_data"
    }
   ],
   "source": [
    "dim(x)"
   ]
  },
  {
   "cell_type": "markdown",
   "metadata": {},
   "source": [
    "## HDF5\n",
    "\n",
    "The `hdf5r` package provides an interface between R and the HDF5 libraries, much like PyTables in Python. However, `hdf5r` has fairly limited functionality, so it is not as useful for querying data sets. But it can be useful for storing large datasets and accessing/processing chunks of that data.\n",
    "\n",
    "[https://cran.r-project.org/package=hdf5r](https://cran.r-project.org/package=hdf5r)\n",
    "\n",
    "***Important Note:** R stores matrices differently than Python. This results in matrices being transposed when created in Python then loaded in R. More info on why this occurs is here: https://cran.r-project.org/web/packages/reticulate/vignettes/arrays.html"
   ]
  },
  {
   "cell_type": "code",
   "execution_count": 47,
   "metadata": {},
   "outputs": [
    {
     "data": {
      "text/plain": [
       "1.08 GB"
      ]
     },
     "metadata": {},
     "output_type": "display_data"
    },
    {
     "data": {
      "text/plain": [
       "Class: H5File\n",
       "Filename: /Users/mooneymi/Documents/github/large_scale_data/xdata/snps_pandas_hdf_zlib.h5\n",
       "Access type: H5F_ACC_RDONLY\n",
       "Attributes: TITLE, CLASS, VERSION, PYTABLES_FORMAT_VERSION\n",
       "Listing:\n",
       " name  obj_type dataset.dims dataset.type_class\n",
       " snps H5I_GROUP         <NA>               <NA>"
      ]
     },
     "metadata": {},
     "output_type": "display_data"
    },
    {
     "data": {
      "text/plain": [
       "1.08 GB"
      ]
     },
     "metadata": {},
     "output_type": "display_data"
    }
   ],
   "source": [
    "## Let's use the hdf5r package to look at our previously saved HDF5 file\n",
    "mem_used()\n",
    "h5_file_pandas = H5File$new('./xdata/snps_pandas_hdf_zlib.h5', mode='r')\n",
    "h5_file_pandas\n",
    "mem_used()"
   ]
  },
  {
   "cell_type": "code",
   "execution_count": 48,
   "metadata": {},
   "outputs": [
    {
     "data": {
      "text/html": [
       "<table>\n",
       "<thead><tr><th scope=col>name</th><th scope=col>link.type</th><th scope=col>obj_type</th><th scope=col>num_attrs</th><th scope=col>group.nlinks</th><th scope=col>group.mounted</th><th scope=col>dataset.rank</th><th scope=col>dataset.dims</th><th scope=col>dataset.maxdims</th><th scope=col>dataset.type_class</th><th scope=col>dataset.space_class</th><th scope=col>committed_type</th></tr></thead>\n",
       "<tbody>\n",
       "\t<tr><td>snps</td><td>0   </td><td>2   </td><td>16  </td><td>1   </td><td>0   </td><td>NA  </td><td>NA  </td><td>NA  </td><td>NA  </td><td>NA  </td><td>NA  </td></tr>\n",
       "</tbody>\n",
       "</table>\n"
      ],
      "text/latex": [
       "\\begin{tabular}{r|llllllllllll}\n",
       " name & link.type & obj\\_type & num\\_attrs & group.nlinks & group.mounted & dataset.rank & dataset.dims & dataset.maxdims & dataset.type\\_class & dataset.space\\_class & committed\\_type\\\\\n",
       "\\hline\n",
       "\t snps & 0    & 2    & 16   & 1    & 0    & NA   & NA   & NA   & NA   & NA   & NA  \\\\\n",
       "\\end{tabular}\n"
      ],
      "text/markdown": [
       "\n",
       "| name | link.type | obj_type | num_attrs | group.nlinks | group.mounted | dataset.rank | dataset.dims | dataset.maxdims | dataset.type_class | dataset.space_class | committed_type |\n",
       "|---|---|---|---|---|---|---|---|---|---|---|---|\n",
       "| snps | 0    | 2    | 16   | 1    | 0    | NA   | NA   | NA   | NA   | NA   | NA   |\n",
       "\n"
      ],
      "text/plain": [
       "  name link.type obj_type num_attrs group.nlinks group.mounted dataset.rank\n",
       "1 snps 0         2        16        1            0             NA          \n",
       "  dataset.dims dataset.maxdims dataset.type_class dataset.space_class\n",
       "1 NA           NA              NA                 NA                 \n",
       "  committed_type\n",
       "1 NA            "
      ]
     },
     "metadata": {},
     "output_type": "display_data"
    }
   ],
   "source": [
    "## The ls() method gives detailed info about file and group objects\n",
    "h5_file_pandas$ls()"
   ]
  },
  {
   "cell_type": "code",
   "execution_count": 49,
   "metadata": {},
   "outputs": [
    {
     "data": {
      "text/html": [
       "<table>\n",
       "<thead><tr><th scope=col>name</th><th scope=col>link.type</th><th scope=col>obj_type</th><th scope=col>num_attrs</th><th scope=col>group.nlinks</th><th scope=col>group.mounted</th><th scope=col>dataset.rank</th><th scope=col>dataset.dims</th><th scope=col>dataset.maxdims</th><th scope=col>dataset.type_class</th><th scope=col>dataset.space_class</th><th scope=col>committed_type</th></tr></thead>\n",
       "<tbody>\n",
       "\t<tr><td>table   </td><td>0       </td><td>5       </td><td>27      </td><td>NA      </td><td>NA      </td><td>1       </td><td>12237943</td><td>Inf     </td><td>6       </td><td>1       </td><td>NA      </td></tr>\n",
       "</tbody>\n",
       "</table>\n"
      ],
      "text/latex": [
       "\\begin{tabular}{r|llllllllllll}\n",
       " name & link.type & obj\\_type & num\\_attrs & group.nlinks & group.mounted & dataset.rank & dataset.dims & dataset.maxdims & dataset.type\\_class & dataset.space\\_class & committed\\_type\\\\\n",
       "\\hline\n",
       "\t table    & 0        & 5        & 27       & NA       & NA       & 1        & 12237943 & Inf      & 6        & 1        & NA      \\\\\n",
       "\\end{tabular}\n"
      ],
      "text/markdown": [
       "\n",
       "| name | link.type | obj_type | num_attrs | group.nlinks | group.mounted | dataset.rank | dataset.dims | dataset.maxdims | dataset.type_class | dataset.space_class | committed_type |\n",
       "|---|---|---|---|---|---|---|---|---|---|---|---|\n",
       "| table    | 0        | 5        | 27       | NA       | NA       | 1        | 12237943 | Inf      | 6        | 1        | NA       |\n",
       "\n"
      ],
      "text/plain": [
       "  name  link.type obj_type num_attrs group.nlinks group.mounted dataset.rank\n",
       "1 table 0         5        27        NA           NA            1           \n",
       "  dataset.dims dataset.maxdims dataset.type_class dataset.space_class\n",
       "1 12237943     Inf             6                  1                  \n",
       "  committed_type\n",
       "1 NA            "
      ]
     },
     "metadata": {},
     "output_type": "display_data"
    }
   ],
   "source": [
    "## Access groups and objects by name (similar to lists)\n",
    "snps_grp = h5_file_pandas[['snps']]\n",
    "snps_grp$ls()"
   ]
  },
  {
   "cell_type": "code",
   "execution_count": 50,
   "metadata": {},
   "outputs": [
    {
     "data": {
      "text/html": [
       "<table>\n",
       "<thead><tr><th scope=col>index</th><th scope=col>rs</th><th scope=col>chr</th><th scope=col>pos</th><th scope=col>loci</th></tr></thead>\n",
       "<tbody>\n",
       "\t<tr><td>0        </td><td>171      </td><td>1        </td><td>175261679</td><td>         </td></tr>\n",
       "\t<tr><td>1        </td><td>242      </td><td>1        </td><td> 20869461</td><td>         </td></tr>\n",
       "\t<tr><td>2        </td><td>538      </td><td>1        </td><td>  6160958</td><td>KCNAB2   </td></tr>\n",
       "\t<tr><td>3        </td><td>546      </td><td>1        </td><td> 93617546</td><td>TMED5    </td></tr>\n",
       "\t<tr><td>4        </td><td>549      </td><td>1        </td><td> 15546825</td><td>TMEM51   </td></tr>\n",
       "</tbody>\n",
       "</table>\n"
      ],
      "text/latex": [
       "\\begin{tabular}{r|lllll}\n",
       " index & rs & chr & pos & loci\\\\\n",
       "\\hline\n",
       "\t 0         & 171       & 1         & 175261679 &          \\\\\n",
       "\t 1         & 242       & 1         &  20869461 &          \\\\\n",
       "\t 2         & 538       & 1         &   6160958 & KCNAB2   \\\\\n",
       "\t 3         & 546       & 1         &  93617546 & TMED5    \\\\\n",
       "\t 4         & 549       & 1         &  15546825 & TMEM51   \\\\\n",
       "\\end{tabular}\n"
      ],
      "text/markdown": [
       "\n",
       "| index | rs | chr | pos | loci |\n",
       "|---|---|---|---|---|\n",
       "| 0         | 171       | 1         | 175261679 |           |\n",
       "| 1         | 242       | 1         |  20869461 |           |\n",
       "| 2         | 538       | 1         |   6160958 | KCNAB2    |\n",
       "| 3         | 546       | 1         |  93617546 | TMED5     |\n",
       "| 4         | 549       | 1         |  15546825 | TMEM51    |\n",
       "\n"
      ],
      "text/plain": [
       "  index rs  chr pos       loci  \n",
       "1 0     171 1   175261679       \n",
       "2 1     242 1    20869461       \n",
       "3 2     538 1     6160958 KCNAB2\n",
       "4 3     546 1    93617546 TMED5 \n",
       "5 4     549 1    15546825 TMEM51"
      ]
     },
     "metadata": {},
     "output_type": "display_data"
    }
   ],
   "source": [
    "snps_table = snps_grp[['table']]\n",
    "snps_table[1:5]"
   ]
  },
  {
   "cell_type": "code",
   "execution_count": 51,
   "metadata": {},
   "outputs": [
    {
     "data": {
      "text/plain": [
       "1.08 GB"
      ]
     },
     "metadata": {},
     "output_type": "display_data"
    }
   ],
   "source": [
    "mem_used()"
   ]
  },
  {
   "cell_type": "code",
   "execution_count": 52,
   "metadata": {},
   "outputs": [
    {
     "data": {
      "text/plain": [
       "Class: H5T_COMPOUND\n",
       "Datatype: H5T_COMPOUND {\n",
       "      H5T_STD_I64LE \"index\" : 0;\n",
       "      H5T_STD_I64LE \"rs\" : 8;\n",
       "      H5T_STD_I64LE \"chr\" : 16;\n",
       "      H5T_IEEE_F64LE \"pos\" : 24;\n",
       "      H5T_STRING {\n",
       "         STRSIZE 76;\n",
       "         STRPAD H5T_STR_NULLTERM;\n",
       "         CSET H5T_CSET_ASCII;\n",
       "         CTYPE H5T_C_S1;\n",
       "      } \"loci\" : 32;\n",
       "   }"
      ]
     },
     "metadata": {},
     "output_type": "display_data"
    }
   ],
   "source": [
    "## View data types\n",
    "snps_table$get_type()"
   ]
  },
  {
   "cell_type": "code",
   "execution_count": 53,
   "metadata": {},
   "outputs": [],
   "source": [
    "## Close the file\n",
    "h5_file_pandas$close_all()"
   ]
  },
  {
   "cell_type": "markdown",
   "metadata": {},
   "source": [
    "### Creating an HDF5 file with `hdf5r`\n",
    "\n",
    "For this example we'll create two groups in the HDF5 file, one to hold the SNPs table (compound data type), and another to hold a random numeric matrix."
   ]
  },
  {
   "cell_type": "code",
   "execution_count": 54,
   "metadata": {},
   "outputs": [
    {
     "data": {
      "text/html": [
       "TRUE"
      ],
      "text/latex": [
       "TRUE"
      ],
      "text/markdown": [
       "TRUE"
      ],
      "text/plain": [
       "[1] TRUE"
      ]
     },
     "metadata": {},
     "output_type": "display_data"
    }
   ],
   "source": [
    "## Create a new HDF5 file\n",
    "if (file.exists(\"./xdata/snps_hdf5r.h5\")) {\n",
    "    file.remove(\"./xdata/snps_hdf5r.h5\")\n",
    "}\n",
    "new_h5_file = H5File$new(\"./xdata/snps_hdf5r.h5\", mode='w')"
   ]
  },
  {
   "cell_type": "code",
   "execution_count": 55,
   "metadata": {},
   "outputs": [],
   "source": [
    "## Create two groups\n",
    "snps_grp = new_h5_file$create_group('snps')\n",
    "mat_grp = new_h5_file$create_group('matrices')"
   ]
  },
  {
   "cell_type": "code",
   "execution_count": 56,
   "metadata": {},
   "outputs": [
    {
     "data": {
      "text/plain": [
       "Class: H5Group\n",
       "Filename: /Users/mooneymi/Documents/github/large_scale_data/xdata/snps_hdf5r.h5\n",
       "Group: /snps"
      ]
     },
     "metadata": {},
     "output_type": "display_data"
    }
   ],
   "source": [
    "snps_grp"
   ]
  },
  {
   "cell_type": "code",
   "execution_count": 57,
   "metadata": {},
   "outputs": [],
   "source": [
    "## Add the snps dataframe as a dataset\n",
    "snps_grp[['table']] = snps"
   ]
  },
  {
   "cell_type": "code",
   "execution_count": 58,
   "metadata": {},
   "outputs": [
    {
     "data": {
      "text/html": [
       "<table>\n",
       "<thead><tr><th scope=col>rs</th><th scope=col>chr</th><th scope=col>pos</th><th scope=col>loci</th></tr></thead>\n",
       "<tbody>\n",
       "\t<tr><td>171      </td><td>1        </td><td>175261679</td><td>NA       </td></tr>\n",
       "\t<tr><td>242      </td><td>1        </td><td> 20869461</td><td>NA       </td></tr>\n",
       "\t<tr><td>538      </td><td>1        </td><td>  6160958</td><td>KCNAB2   </td></tr>\n",
       "\t<tr><td>546      </td><td>1        </td><td> 93617546</td><td>TMED5    </td></tr>\n",
       "\t<tr><td>549      </td><td>1        </td><td> 15546825</td><td>TMEM51   </td></tr>\n",
       "</tbody>\n",
       "</table>\n"
      ],
      "text/latex": [
       "\\begin{tabular}{r|llll}\n",
       " rs & chr & pos & loci\\\\\n",
       "\\hline\n",
       "\t 171       & 1         & 175261679 & NA       \\\\\n",
       "\t 242       & 1         &  20869461 & NA       \\\\\n",
       "\t 538       & 1         &   6160958 & KCNAB2   \\\\\n",
       "\t 546       & 1         &  93617546 & TMED5    \\\\\n",
       "\t 549       & 1         &  15546825 & TMEM51   \\\\\n",
       "\\end{tabular}\n"
      ],
      "text/markdown": [
       "\n",
       "| rs | chr | pos | loci |\n",
       "|---|---|---|---|\n",
       "| 171       | 1         | 175261679 | NA        |\n",
       "| 242       | 1         |  20869461 | NA        |\n",
       "| 538       | 1         |   6160958 | KCNAB2    |\n",
       "| 546       | 1         |  93617546 | TMED5     |\n",
       "| 549       | 1         |  15546825 | TMEM51    |\n",
       "\n"
      ],
      "text/plain": [
       "  rs  chr pos       loci  \n",
       "1 171 1   175261679 NA    \n",
       "2 242 1    20869461 NA    \n",
       "3 538 1     6160958 KCNAB2\n",
       "4 546 1    93617546 TMED5 \n",
       "5 549 1    15546825 TMEM51"
      ]
     },
     "metadata": {},
     "output_type": "display_data"
    }
   ],
   "source": [
    "## Note: compound datasets can't be indexed in 2 dimensions\n",
    "snps_grp[['table']][1:5]"
   ]
  },
  {
   "cell_type": "code",
   "execution_count": 59,
   "metadata": {},
   "outputs": [
    {
     "data": {
      "text/plain": [
       "Class: H5T_COMPOUND\n",
       "Datatype: H5T_COMPOUND {\n",
       "      H5T_STD_I32LE \"rs\" : 0;\n",
       "      H5T_STD_I32LE \"chr\" : 4;\n",
       "      H5T_STD_I32LE \"pos\" : 8;\n",
       "      H5T_STRING {\n",
       "         STRSIZE H5T_VARIABLE;\n",
       "         STRPAD H5T_STR_NULLTERM;\n",
       "         CSET H5T_CSET_ASCII;\n",
       "         CTYPE H5T_C_S1;\n",
       "      } \"loci\" : 16;\n",
       "   }"
      ]
     },
     "metadata": {},
     "output_type": "display_data"
    }
   ],
   "source": [
    "snps_grp[['table']]$get_type()"
   ]
  },
  {
   "cell_type": "code",
   "execution_count": 60,
   "metadata": {},
   "outputs": [],
   "source": [
    "## Now let's add a numeric matrix to the file\n",
    "m = matrix(runif(1000000), 10000, 100)\n",
    "mat_grp[['A']] = m"
   ]
  },
  {
   "cell_type": "code",
   "execution_count": 61,
   "metadata": {},
   "outputs": [
    {
     "data": {
      "text/plain": [
       "Class: H5Group\n",
       "Filename: /Users/mooneymi/Documents/github/large_scale_data/xdata/snps_hdf5r.h5\n",
       "Group: /matrices\n",
       "Listing:\n",
       " name    obj_type dataset.dims dataset.type_class\n",
       "    A H5I_DATASET  10000 x 100          H5T_FLOAT"
      ]
     },
     "metadata": {},
     "output_type": "display_data"
    }
   ],
   "source": [
    "mat_grp"
   ]
  },
  {
   "cell_type": "code",
   "execution_count": 62,
   "metadata": {},
   "outputs": [
    {
     "data": {
      "text/plain": [
       "Class: H5T_FLOAT\n",
       "Datatype: H5T_IEEE_F64LE"
      ]
     },
     "metadata": {},
     "output_type": "display_data"
    }
   ],
   "source": [
    "mat_grp[['A']]$get_type()"
   ]
  },
  {
   "cell_type": "code",
   "execution_count": 63,
   "metadata": {},
   "outputs": [
    {
     "data": {
      "text/html": [
       "<table>\n",
       "<tbody>\n",
       "\t<tr><td>0.3780405</td><td>0.2029585</td><td>0.1962739</td><td>0.9548512</td><td>0.9926566</td></tr>\n",
       "\t<tr><td>0.5090544</td><td>0.4183603</td><td>0.1213849</td><td>0.8604248</td><td>0.4153542</td></tr>\n",
       "\t<tr><td>0.7913487</td><td>0.6674395</td><td>0.3249268</td><td>0.4707616</td><td>0.7851695</td></tr>\n",
       "\t<tr><td>0.1326862</td><td>0.4396432</td><td>0.3010942</td><td>0.4232426</td><td>0.2237900</td></tr>\n",
       "\t<tr><td>0.3257384</td><td>0.7836584</td><td>0.2457535</td><td>0.2047286</td><td>0.9905719</td></tr>\n",
       "</tbody>\n",
       "</table>\n"
      ],
      "text/latex": [
       "\\begin{tabular}{lllll}\n",
       "\t 0.3780405 & 0.2029585 & 0.1962739 & 0.9548512 & 0.9926566\\\\\n",
       "\t 0.5090544 & 0.4183603 & 0.1213849 & 0.8604248 & 0.4153542\\\\\n",
       "\t 0.7913487 & 0.6674395 & 0.3249268 & 0.4707616 & 0.7851695\\\\\n",
       "\t 0.1326862 & 0.4396432 & 0.3010942 & 0.4232426 & 0.2237900\\\\\n",
       "\t 0.3257384 & 0.7836584 & 0.2457535 & 0.2047286 & 0.9905719\\\\\n",
       "\\end{tabular}\n"
      ],
      "text/markdown": [
       "\n",
       "| 0.3780405 | 0.2029585 | 0.1962739 | 0.9548512 | 0.9926566 |\n",
       "| 0.5090544 | 0.4183603 | 0.1213849 | 0.8604248 | 0.4153542 |\n",
       "| 0.7913487 | 0.6674395 | 0.3249268 | 0.4707616 | 0.7851695 |\n",
       "| 0.1326862 | 0.4396432 | 0.3010942 | 0.4232426 | 0.2237900 |\n",
       "| 0.3257384 | 0.7836584 | 0.2457535 | 0.2047286 | 0.9905719 |\n",
       "\n"
      ],
      "text/plain": [
       "     [,1]      [,2]      [,3]      [,4]      [,5]     \n",
       "[1,] 0.3780405 0.2029585 0.1962739 0.9548512 0.9926566\n",
       "[2,] 0.5090544 0.4183603 0.1213849 0.8604248 0.4153542\n",
       "[3,] 0.7913487 0.6674395 0.3249268 0.4707616 0.7851695\n",
       "[4,] 0.1326862 0.4396432 0.3010942 0.4232426 0.2237900\n",
       "[5,] 0.3257384 0.7836584 0.2457535 0.2047286 0.9905719"
      ]
     },
     "metadata": {},
     "output_type": "display_data"
    }
   ],
   "source": [
    "## Because this is a numeric array, we can index (subset) in both dimensions\n",
    "mat_grp[['A']][1:5,1:5]"
   ]
  },
  {
   "cell_type": "code",
   "execution_count": 64,
   "metadata": {},
   "outputs": [
    {
     "data": {
      "text/plain": [
       "Class: H5File\n",
       "Filename: /Users/mooneymi/Documents/github/large_scale_data/xdata/snps_hdf5r.h5\n",
       "Access type: H5F_ACC_RDWR\n",
       "Listing:\n",
       "     name  obj_type dataset.dims dataset.type_class\n",
       " matrices H5I_GROUP         <NA>               <NA>\n",
       "     snps H5I_GROUP         <NA>               <NA>"
      ]
     },
     "metadata": {},
     "output_type": "display_data"
    }
   ],
   "source": [
    "## View the file structure\n",
    "new_h5_file"
   ]
  },
  {
   "cell_type": "code",
   "execution_count": 65,
   "metadata": {},
   "outputs": [],
   "source": [
    "## Close the file\n",
    "new_h5_file$close_all()"
   ]
  },
  {
   "cell_type": "markdown",
   "metadata": {},
   "source": [
    "## In-Class Exercises"
   ]
  },
  {
   "cell_type": "code",
   "execution_count": 66,
   "metadata": {},
   "outputs": [],
   "source": [
    "## Exercise 1.\n",
    "## Use parallel processes to calculate the column sums \n",
    "## of the first ten columns of a file-backed bigmatrix or HDF5 file\n",
    "## (you can use 'bm', or the 'snps_hdf5r.h5' defined above).\n",
    "## Use describe() and attach.big.matrix() from the bigmemory library.\n",
    "## OR use H5File$new() from the hdf5r library.\n",
    "## An easy option for parallel R processes is mclapply() or parLapply() from the\n",
    "## parallel R package (mclapply does not work on Windows)\n",
    "\n"
   ]
  },
  {
   "cell_type": "code",
   "execution_count": 67,
   "metadata": {},
   "outputs": [
    {
     "data": {
      "text/plain": [
       "   user  system elapsed \n",
       "  0.039   0.015  30.115 "
      ]
     },
     "metadata": {},
     "output_type": "display_data"
    }
   ],
   "source": [
    "## Here's an example of sequentially calling foo() 10 times\n",
    "system.time({lapply(1:10, function(x){foo(x, 1000000)})})"
   ]
  },
  {
   "cell_type": "code",
   "execution_count": 68,
   "metadata": {},
   "outputs": [
    {
     "data": {
      "text/plain": [
       "   user  system elapsed \n",
       "  0.026   0.038   9.051 "
      ]
     },
     "metadata": {},
     "output_type": "display_data"
    }
   ],
   "source": [
    "## Here's an example of using mclapply() to call foo() in parallel, using 4 cores\n",
    "system.time({mclapply(1:10, function(x){foo(x, 1000000)}, mc.cores=4)})"
   ]
  },
  {
   "cell_type": "code",
   "execution_count": 69,
   "metadata": {},
   "outputs": [
    {
     "data": {
      "text/plain": [
       "   user  system elapsed \n",
       "  0.005   0.001   9.053 "
      ]
     },
     "metadata": {},
     "output_type": "display_data"
    }
   ],
   "source": [
    "## On Windows machines use parLapply instead of mclapply\n",
    "## First create a local cluster by specifying the number of cores\n",
    "cl = makeCluster(4)\n",
    "## Export variables or function definitions to each node of the cluster\n",
    "clusterExport(cl, c(\"foo\"))\n",
    "## If your code depends on any packages you'll also have to load them on the cluster, e.g.:\n",
    "#parLapply(cl, 1:length(cl), function(x){require(bigmemory)})\n",
    "\n",
    "## Run your code in parallel\n",
    "system.time({parLapply(cl, 1:10, function(x){foo(x, 1000000)})})\n",
    "stopCluster(cl)"
   ]
  },
  {
   "cell_type": "markdown",
   "metadata": {},
   "source": [
    "#### Last Updated: 8-Jan-2021"
   ]
  }
 ],
 "metadata": {
  "anaconda-cloud": {},
  "kernelspec": {
   "display_name": "R [conda env:r]",
   "language": "R",
   "name": "conda-env-r-r"
  },
  "language_info": {
   "codemirror_mode": "r",
   "file_extension": ".r",
   "mimetype": "text/x-r-source",
   "name": "R",
   "pygments_lexer": "r",
   "version": "3.6.1"
  }
 },
 "nbformat": 4,
 "nbformat_minor": 1
}
